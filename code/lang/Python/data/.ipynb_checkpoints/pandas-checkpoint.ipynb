{
 "cells": [
  {
   "cell_type": "markdown",
   "metadata": {},
   "source": [
    "# pandas Primer\n",
    "Code is from _Python Data Analysis_ by Ivan Idris, Chapter 4. \n",
    "\n",
    "Run under Python2.7\n",
    "> `pandas` is named after panel data (an econometric term) and Python data analysis.\n",
    ">\n",
    "> The official pandas documentation insists on naming the project `pandas` in all lowercase letters. \n",
    "> The other convention they insist on is this import statement: `import pandas as pd`."
   ]
  },
  {
   "cell_type": "markdown",
   "metadata": {},
   "source": [
    "## pandas DataFrames\n",
    "The data used is retrieved from http://www.exploredata.net/Downloads/WHO-Data-Set. The original datafile is quite big and has many columns, so we will use an edited file instead, which only contains the first nine columns."
   ]
  },
  {
   "cell_type": "code",
   "execution_count": 1,
   "metadata": {
    "collapsed": false
   },
   "outputs": [
    {
     "name": "stdout",
     "output_type": "stream",
     "text": [
      "\n",
      "## Shape\n",
      "(202, 9)\n",
      "\n",
      "## Length\n",
      "202\n",
      "\n",
      "## Column Headers\n",
      "Index([u'Country', u'CountryID', u'Continent',\n",
      "       u'Adolescent fertility rate (%)', u'Adult literacy rate (%)',\n",
      "       u'Gross national income per capita (PPP international $)',\n",
      "       u'Net primary school enrolment ratio female (%)',\n",
      "       u'Net primary school enrolment ratio male (%)',\n",
      "       u'Population (in thousands) total'],\n",
      "      dtype='object')\n",
      "\n",
      "## Data types\n",
      "Country                                                    object\n",
      "CountryID                                                   int64\n",
      "Continent                                                   int64\n",
      "Adolescent fertility rate (%)                             float64\n",
      "Adult literacy rate (%)                                   float64\n",
      "Gross national income per capita (PPP international $)    float64\n",
      "Net primary school enrolment ratio female (%)             float64\n",
      "Net primary school enrolment ratio male (%)               float64\n",
      "Population (in thousands) total                           float64\n",
      "dtype: object\n",
      "\n",
      "## Index\n",
      "RangeIndex(start=0, stop=202, step=1)\n",
      "\n",
      "## Values\n",
      "[['Afghanistan' 1 1 ..., 4.0 23.0 16.0]\n",
      " ['Albania' 2 2 ..., 93.0 94.0 3172.0]\n",
      " ['Algeria' 3 3 ..., 94.0 96.0 33351.0]\n",
      " ..., \n",
      " ['Yemen' 200 1 ..., 65.0 85.0 21732.0]\n",
      " ['Zambia' 201 3 ..., 94.0 90.0 11696.0]\n",
      " ['Zimbabwe' 202 3 ..., 87.0 13228.0 0.8]]\n"
     ]
    }
   ],
   "source": [
    "from pandas.io.parsers import read_csv\n",
    "\n",
    "df = read_csv(\"csv/WHO_first9cols.csv\")\n",
    "# print \"## Dataframe\\n\", df\n",
    "print\n",
    "print \"## Shape\\n\", df.shape\n",
    "print\n",
    "print \"## Length\\n\", len(df)\n",
    "print\n",
    "print \"## Column Headers\\n\", df.columns\n",
    "print\n",
    "print \"## Data types\\n\", df.dtypes\n",
    "print\n",
    "print \"## Index\\n\", df.index\n",
    "print\n",
    "print \"## Values\\n\", df.values"
   ]
  },
  {
   "cell_type": "markdown",
   "metadata": {},
   "source": [
    "## pandas Series\n",
    "The pandas `Series` data structure is a one-dimensional heterogeneous array with labels. "
   ]
  },
  {
   "cell_type": "code",
   "execution_count": 4,
   "metadata": {
    "collapsed": false
   },
   "outputs": [
    {
     "name": "stdout",
     "output_type": "stream",
     "text": [
      "Type df <class 'pandas.core.frame.DataFrame'>\n",
      "Type country col <class 'pandas.core.series.Series'>\n",
      "\n",
      "Series shape (202,)\n",
      "Series index RangeIndex(start=0, stop=202, step=1)\n",
      "Series values ['Afghanistan' 'Albania' 'Algeria' 'Andorra' 'Angola' 'Antigua and Barbuda'\n",
      " 'Argentina' 'Armenia' 'Australia' 'Austria' 'Azerbaijan' 'Bahamas'\n",
      " 'Bahrain' 'Bangladesh' 'Barbados' 'Belarus' 'Belgium' 'Belize' 'Benin'\n",
      " 'Bermuda' 'Bhutan' 'Bolivia' 'Bosnia and Herzegovina' 'Botswana' 'Brazil'\n",
      " 'Brunei Darussalam' 'Bulgaria' 'Burkina Faso' 'Burundi' 'Cambodia'\n",
      " 'Cameroon' 'Canada' 'Cape Verde' 'Central African Republic' 'Chad' 'Chile'\n",
      " 'China' 'Colombia' 'Comoros' 'Congo, Dem. Rep.' 'Congo, Rep.'\n",
      " 'Cook Islands' 'Costa Rica' \"Cote d'Ivoire\" 'Croatia' 'Cuba' 'Cyprus'\n",
      " 'Czech Republic' 'Denmark' 'Djibouti' 'Dominica' 'Dominican Republic'\n",
      " 'Ecuador' 'Egypt' 'El Salvador' 'Equatorial Guinea' 'Eritrea' 'Estonia'\n",
      " 'Ethiopia' 'Fiji' 'Finland' 'France' 'French Polynesia' 'Gabon' 'Gambia'\n",
      " 'Georgia' 'Germany' 'Ghana' 'Greece' 'Grenada' 'Guatemala' 'Guinea'\n",
      " 'Guinea-Bissau' 'Guyana' 'Haiti' 'Honduras' 'Hong Kong, China' 'Hungary'\n",
      " 'Iceland' 'India' 'Indonesia' 'Iran (Islamic Republic of)' 'Iraq'\n",
      " 'Ireland' 'Israel' 'Italy' 'Jamaica' 'Japan' 'Jordan' 'Kazakhstan' 'Kenya'\n",
      " 'Kiribati' 'Korea, Dem. Rep.' 'Korea, Rep.' 'Kuwait' 'Kyrgyzstan'\n",
      " \"Lao People's Democratic Republic\" 'Latvia' 'Lebanon' 'Lesotho' 'Liberia'\n",
      " 'Libyan Arab Jamahiriya' 'Lithuania' 'Luxembourg' 'Macao, China'\n",
      " 'Macedonia' 'Madagascar' 'Malawi' 'Malaysia' 'Maldives' 'Mali' 'Malta'\n",
      " 'Marshall Islands' 'Mauritania' 'Mauritius' 'Mexico'\n",
      " 'Micronesia (Federated States of)' 'Moldova' 'Monaco' 'Mongolia'\n",
      " 'Montenegro' 'Morocco' 'Mozambique' 'Myanmar' 'Namibia' 'Nauru' 'Nepal'\n",
      " 'Netherlands' 'Netherlands Antilles' 'New Caledonia' 'New Zealand'\n",
      " 'Nicaragua' 'Niger' 'Nigeria' 'Niue' 'Norway' 'Oman' 'Pakistan' 'Palau'\n",
      " 'Panama' 'Papua New Guinea' 'Paraguay' 'Peru' 'Philippines' 'Poland'\n",
      " 'Portugal' 'Puerto Rico' 'Qatar' 'Romania' 'Russia' 'Rwanda'\n",
      " 'Saint Kitts and Nevis' 'Saint Lucia' 'Saint Vincent and the Grenadines'\n",
      " 'Samoa' 'San Marino' 'Sao Tome and Principe' 'Saudi Arabia' 'Senegal'\n",
      " 'Serbia' 'Seychelles' 'Sierra Leone' 'Singapore' 'Slovakia' 'Slovenia'\n",
      " 'Solomon Islands' 'Somalia' 'South Africa' 'Spain' 'Sri Lanka' 'Sudan'\n",
      " 'Suriname' 'Swaziland' 'Sweden' 'Switzerland' 'Syria' 'Taiwan'\n",
      " 'Tajikistan' 'Tanzania' 'Thailand' 'Timor-Leste' 'Togo' 'Tonga'\n",
      " 'Trinidad and Tobago' 'Tunisia' 'Turkey' 'Turkmenistan' 'Tuvalu' 'Uganda'\n",
      " 'Ukraine' 'United Arab Emirates' 'United Kingdom'\n",
      " 'United States of America' 'Uruguay' 'Uzbekistan' 'Vanuatu' 'Venezuela'\n",
      " 'Vietnam' 'West Bank and Gaza' 'Yemen' 'Zambia' 'Zimbabwe']\n",
      "Series name Country\n"
     ]
    }
   ],
   "source": [
    "country_col = df[\"Country\"]\n",
    "print \"Type df\", type(df)\n",
    "print \"Type country col\", type(country_col)\n",
    "print\n",
    "print \"Series shape\", country_col.shape\n",
    "print \"Series index\", country_col.index\n",
    "print \"Series values\", country_col.values\n",
    "print \"Series name\", country_col.name"
   ]
  },
  {
   "cell_type": "code",
   "execution_count": 5,
   "metadata": {
    "collapsed": false
   },
   "outputs": [
    {
     "name": "stdout",
     "output_type": "stream",
     "text": [
      "Last 2 countries 200      Zambia\n",
      "201    Zimbabwe\n",
      "Name: Country, dtype: object\n",
      "Last 2 countries type <class 'pandas.core.series.Series'>\n"
     ]
    }
   ],
   "source": [
    "# To demonstrate the slicing of a Series\n",
    "print \"Last 2 countries\", country_col[-2:]\n",
    "print \"Last 2 countries type\", type(country_col[-2:])"
   ]
  },
  {
   "cell_type": "markdown",
   "metadata": {},
   "source": [
    "NumPy functions can operate on pandas `DataFrame` and `Series`. We can, for instance, apply the NumPy `sign()` function."
   ]
  },
  {
   "cell_type": "code",
   "execution_count": 15,
   "metadata": {
    "collapsed": false
   },
   "outputs": [
    {
     "name": "stdout",
     "output_type": "stream",
     "text": [
      "Last df column signs\n",
      "Population (in thousands) total\n",
      "0      1.0\n",
      "1      1.0\n",
      "2      1.0\n",
      "3      1.0\n",
      "4      1.0\n",
      "5      1.0\n",
      "6      1.0\n",
      "7      1.0\n",
      "8      1.0\n",
      "9      1.0\n",
      "10     1.0\n",
      "11     1.0\n",
      "12     1.0\n",
      "13     1.0\n",
      "14     1.0\n",
      "15     1.0\n",
      "16     1.0\n",
      "17     1.0\n",
      "18     1.0\n",
      "19     1.0\n",
      "20     1.0\n",
      "21     1.0\n",
      "22     1.0\n",
      "23     1.0\n",
      "24     1.0\n",
      "25     1.0\n",
      "26     1.0\n",
      "27     1.0\n",
      "28     1.0\n",
      "29     1.0\n",
      "      ... \n",
      "172    1.0\n",
      "173    1.0\n",
      "174    1.0\n",
      "175    1.0\n",
      "176    1.0\n",
      "177    1.0\n",
      "178    1.0\n",
      "179    1.0\n",
      "180    1.0\n",
      "181    1.0\n",
      "182    1.0\n",
      "183    1.0\n",
      "184    1.0\n",
      "185    1.0\n",
      "186    1.0\n",
      "187    1.0\n",
      "188    1.0\n",
      "189    1.0\n",
      "190    1.0\n",
      "191    1.0\n",
      "192    1.0\n",
      "193    1.0\n",
      "194    1.0\n",
      "195    1.0\n",
      "196    1.0\n",
      "197    1.0\n",
      "198    1.0\n",
      "199    1.0\n",
      "200    1.0\n",
      "201    1.0\n",
      "Name: Population (in thousands) total, dtype: float64\n"
     ]
    }
   ],
   "source": [
    "import numpy as np\n",
    "\n",
    "# print \"df signs\\n\", np.sign(df)\n",
    "last_col = df.columns[-1]\n",
    "print \"Last df column signs\\n\", last_col\n",
    "print np.sign(df[last_col])"
   ]
  },
  {
   "cell_type": "code",
   "execution_count": 17,
   "metadata": {
    "collapsed": false
   },
   "outputs": [
    {
     "name": "stdout",
     "output_type": "stream",
     "text": [
      "nan\n",
      "0.0\n"
     ]
    }
   ],
   "source": [
    "print np.sum([0, np.nan])\n",
    "print np.sum(df[last_col] - df[last_col].values)"
   ]
  },
  {
   "cell_type": "markdown",
   "metadata": {},
   "source": [
    "## Querying data in pandas\n",
    "Since a padas DataFrame is structured similarly to a relational database, we can view operations that read data from a DataFrame as a query. In this example, we will retrieve the annual sunspot data from Quandl."
   ]
  },
  {
   "cell_type": "code",
   "execution_count": 31,
   "metadata": {
    "collapsed": false
   },
   "outputs": [
    {
     "name": "stdout",
     "output_type": "stream",
     "text": [
      "Head 2                      Yearly Mean Total Sunspot Number  \\\n",
      "Date                                                    \n",
      "1700-12-31 00:00:00                               8.3   \n",
      "1701-12-31 00:00:00                              18.3   \n",
      "\n",
      "                     Yearly Mean Standard Deviation  Number of Observations  \\\n",
      "Date                                                                          \n",
      "1700-12-31 00:00:00                             NaN                     NaN   \n",
      "1701-12-31 00:00:00                             NaN                     NaN   \n",
      "\n",
      "                     Definitive/Provisional Indicator  \n",
      "Date                                                   \n",
      "1700-12-31 00:00:00                               1.0  \n",
      "1701-12-31 00:00:00                               1.0  \n",
      "Tail 2             Yearly Mean Total Sunspot Number  Yearly Mean Standard Deviation  \\\n",
      "Date                                                                           \n",
      "2014-12-31                             113.3                             8.0   \n",
      "2015-12-31                              69.8                             6.4   \n",
      "\n",
      "            Number of Observations  Definitive/Provisional Indicator  \n",
      "Date                                                                  \n",
      "2014-12-31                  5273.0                               1.0  \n",
      "2015-12-31                  8903.0                               1.0  \n",
      "\n",
      "Last value Yearly Mean Total Sunspot Number      69.8\n",
      "Yearly Mean Standard Deviation         6.4\n",
      "Number of Observations              8903.0\n",
      "Definitive/Provisional Indicator       1.0\n",
      "Name: 2015-12-31 00:00:00, dtype: float64\n",
      "Values slice by date             Yearly Mean Total Sunspot Number  Yearly Mean Standard Deviation  \\\n",
      "Date                                                                           \n",
      "2002-12-31                             163.6                             9.8   \n",
      "2003-12-31                              99.3                             7.1   \n",
      "2004-12-31                              65.3                             5.9   \n",
      "2005-12-31                              45.8                             4.7   \n",
      "2006-12-31                              24.7                             3.5   \n",
      "2007-12-31                              12.6                             2.7   \n",
      "2008-12-31                               4.2                             2.5   \n",
      "2009-12-31                               4.8                             2.5   \n",
      "2010-12-31                              24.9                             3.4   \n",
      "2011-12-31                              80.8                             6.7   \n",
      "2012-12-31                              84.5                             6.7   \n",
      "2013-12-31                              94.0                             6.9   \n",
      "\n",
      "            Number of Observations  Definitive/Provisional Indicator  \n",
      "Date                                                                  \n",
      "2002-12-31                  6588.0                               1.0  \n",
      "2003-12-31                  7087.0                               1.0  \n",
      "2004-12-31                  6882.0                               1.0  \n",
      "2005-12-31                  7084.0                               1.0  \n",
      "2006-12-31                  6370.0                               1.0  \n",
      "2007-12-31                  6841.0                               1.0  \n",
      "2008-12-31                  6644.0                               1.0  \n",
      "2009-12-31                  6465.0                               1.0  \n",
      "2010-12-31                  6328.0                               1.0  \n",
      "2011-12-31                  6077.0                               1.0  \n",
      "2012-12-31                  5753.0                               1.0  \n",
      "2013-12-31                  5347.0                               1.0  \n",
      "Slice from a list of indices                      Yearly Mean Total Sunspot Number  \\\n",
      "Date                                                    \n",
      "1702-12-31 00:00:00                              26.7   \n",
      "1704-12-31 00:00:00                              60.0   \n",
      "2012-12-31                                       84.5   \n",
      "2014-12-31                                      113.3   \n",
      "\n",
      "                     Yearly Mean Standard Deviation  Number of Observations  \\\n",
      "Date                                                                          \n",
      "1702-12-31 00:00:00                             NaN                     NaN   \n",
      "1704-12-31 00:00:00                             NaN                     NaN   \n",
      "2012-12-31                                      6.7                  5753.0   \n",
      "2014-12-31                                      8.0                  5273.0   \n",
      "\n",
      "                     Definitive/Provisional Indicator  \n",
      "Date                                                   \n",
      "1702-12-31 00:00:00                               1.0  \n",
      "1704-12-31 00:00:00                               1.0  \n",
      "2012-12-31                                        1.0  \n",
      "2014-12-31                                        1.0  \n",
      "Scalar with Iloc 8.3\n",
      "Scalar with iat 18.3\n",
      "Boolean selection                      Yearly Mean Total Sunspot Number  \\\n",
      "Date                                                    \n",
      "1700-12-31 00:00:00                               NaN   \n",
      "1701-12-31 00:00:00                               NaN   \n",
      "1702-12-31 00:00:00                               NaN   \n",
      "1703-12-31 00:00:00                               NaN   \n",
      "1704-12-31 00:00:00                               NaN   \n",
      "1705-12-31 00:00:00                              96.7   \n",
      "1706-12-31 00:00:00                               NaN   \n",
      "1707-12-31 00:00:00                               NaN   \n",
      "1708-12-31 00:00:00                               NaN   \n",
      "1709-12-31 00:00:00                               NaN   \n",
      "1710-12-31 00:00:00                               NaN   \n",
      "1711-12-31 00:00:00                               NaN   \n",
      "1712-12-31 00:00:00                               NaN   \n",
      "1713-12-31 00:00:00                               NaN   \n",
      "1714-12-31 00:00:00                               NaN   \n",
      "1715-12-31 00:00:00                               NaN   \n",
      "1716-12-31 00:00:00                               NaN   \n",
      "1717-12-31 00:00:00                             105.0   \n",
      "1718-12-31 00:00:00                             100.0   \n",
      "1719-12-31 00:00:00                               NaN   \n",
      "1720-12-31 00:00:00                               NaN   \n",
      "1721-12-31 00:00:00                               NaN   \n",
      "1722-12-31 00:00:00                               NaN   \n",
      "1723-12-31 00:00:00                               NaN   \n",
      "1724-12-31 00:00:00                               NaN   \n",
      "1725-12-31 00:00:00                               NaN   \n",
      "1726-12-31 00:00:00                             130.0   \n",
      "1727-12-31 00:00:00                             203.3   \n",
      "1728-12-31 00:00:00                             171.7   \n",
      "1729-12-31 00:00:00                             121.7   \n",
      "...                                               ...   \n",
      "1986-12-31                                        NaN   \n",
      "1987-12-31                                        NaN   \n",
      "1988-12-31                                      123.0   \n",
      "1989-12-31                                      211.1   \n",
      "1990-12-31                                      191.8   \n",
      "1991-12-31                                      203.3   \n",
      "1992-12-31                                      133.0   \n",
      "1993-12-31                                        NaN   \n",
      "1994-12-31                                        NaN   \n",
      "1995-12-31                                        NaN   \n",
      "1996-12-31                                        NaN   \n",
      "1997-12-31                                        NaN   \n",
      "1998-12-31                                       88.3   \n",
      "1999-12-31                                      136.3   \n",
      "2000-12-31                                      173.9   \n",
      "2001-12-31                                      170.4   \n",
      "2002-12-31                                      163.6   \n",
      "2003-12-31                                       99.3   \n",
      "2004-12-31                                        NaN   \n",
      "2005-12-31                                        NaN   \n",
      "2006-12-31                                        NaN   \n",
      "2007-12-31                                        NaN   \n",
      "2008-12-31                                        NaN   \n",
      "2009-12-31                                        NaN   \n",
      "2010-12-31                                        NaN   \n",
      "2011-12-31                                       80.8   \n",
      "2012-12-31                                       84.5   \n",
      "2013-12-31                                       94.0   \n",
      "2014-12-31                                      113.3   \n",
      "2015-12-31                                        NaN   \n",
      "\n",
      "                     Yearly Mean Standard Deviation  Number of Observations  \\\n",
      "Date                                                                          \n",
      "1700-12-31 00:00:00                             NaN                     NaN   \n",
      "1701-12-31 00:00:00                             NaN                     NaN   \n",
      "1702-12-31 00:00:00                             NaN                     NaN   \n",
      "1703-12-31 00:00:00                             NaN                     NaN   \n",
      "1704-12-31 00:00:00                             NaN                     NaN   \n",
      "1705-12-31 00:00:00                             NaN                     NaN   \n",
      "1706-12-31 00:00:00                             NaN                     NaN   \n",
      "1707-12-31 00:00:00                             NaN                     NaN   \n",
      "1708-12-31 00:00:00                             NaN                     NaN   \n",
      "1709-12-31 00:00:00                             NaN                     NaN   \n",
      "1710-12-31 00:00:00                             NaN                     NaN   \n",
      "1711-12-31 00:00:00                             NaN                     NaN   \n",
      "1712-12-31 00:00:00                             NaN                     NaN   \n",
      "1713-12-31 00:00:00                             NaN                     NaN   \n",
      "1714-12-31 00:00:00                             NaN                     NaN   \n",
      "1715-12-31 00:00:00                             NaN                     NaN   \n",
      "1716-12-31 00:00:00                             NaN                     NaN   \n",
      "1717-12-31 00:00:00                             NaN                     NaN   \n",
      "1718-12-31 00:00:00                             NaN                     NaN   \n",
      "1719-12-31 00:00:00                             NaN                     NaN   \n",
      "1720-12-31 00:00:00                             NaN                     NaN   \n",
      "1721-12-31 00:00:00                             NaN                     NaN   \n",
      "1722-12-31 00:00:00                             NaN                     NaN   \n",
      "1723-12-31 00:00:00                             NaN                     NaN   \n",
      "1724-12-31 00:00:00                             NaN                     NaN   \n",
      "1725-12-31 00:00:00                             NaN                     NaN   \n",
      "1726-12-31 00:00:00                             NaN                     NaN   \n",
      "1727-12-31 00:00:00                             NaN                     NaN   \n",
      "1728-12-31 00:00:00                             NaN                     NaN   \n",
      "1729-12-31 00:00:00                             NaN                     NaN   \n",
      "...                                             ...                     ...   \n",
      "1986-12-31                                      NaN                  5934.0   \n",
      "1987-12-31                                      NaN                  6396.0   \n",
      "1988-12-31                                      8.4                  6556.0   \n",
      "1989-12-31                                     12.8                  6932.0   \n",
      "1990-12-31                                     11.2                  7108.0   \n",
      "1991-12-31                                     12.7                  6932.0   \n",
      "1992-12-31                                      8.9                  7845.0   \n",
      "1993-12-31                                      NaN                  8010.0   \n",
      "1994-12-31                                      NaN                  8524.0   \n",
      "1995-12-31                                      NaN                  8429.0   \n",
      "1996-12-31                                      NaN                  7614.0   \n",
      "1997-12-31                                      NaN                  7294.0   \n",
      "1998-12-31                                      NaN                  6353.0   \n",
      "1999-12-31                                      9.3                  6413.0   \n",
      "2000-12-31                                     10.1                  5953.0   \n",
      "2001-12-31                                     10.5                  6558.0   \n",
      "2002-12-31                                      9.8                  6588.0   \n",
      "2003-12-31                                      NaN                  7087.0   \n",
      "2004-12-31                                      NaN                  6882.0   \n",
      "2005-12-31                                      NaN                  7084.0   \n",
      "2006-12-31                                      NaN                  6370.0   \n",
      "2007-12-31                                      NaN                  6841.0   \n",
      "2008-12-31                                      NaN                  6644.0   \n",
      "2009-12-31                                      NaN                  6465.0   \n",
      "2010-12-31                                      NaN                  6328.0   \n",
      "2011-12-31                                      NaN                  6077.0   \n",
      "2012-12-31                                      NaN                  5753.0   \n",
      "2013-12-31                                      NaN                  5347.0   \n",
      "2014-12-31                                      NaN                  5273.0   \n",
      "2015-12-31                                      NaN                  8903.0   \n",
      "\n",
      "                     Definitive/Provisional Indicator  \n",
      "Date                                                   \n",
      "1700-12-31 00:00:00                               NaN  \n",
      "1701-12-31 00:00:00                               NaN  \n",
      "1702-12-31 00:00:00                               NaN  \n",
      "1703-12-31 00:00:00                               NaN  \n",
      "1704-12-31 00:00:00                               NaN  \n",
      "1705-12-31 00:00:00                               NaN  \n",
      "1706-12-31 00:00:00                               NaN  \n",
      "1707-12-31 00:00:00                               NaN  \n",
      "1708-12-31 00:00:00                               NaN  \n",
      "1709-12-31 00:00:00                               NaN  \n",
      "1710-12-31 00:00:00                               NaN  \n",
      "1711-12-31 00:00:00                               NaN  \n",
      "1712-12-31 00:00:00                               NaN  \n",
      "1713-12-31 00:00:00                               NaN  \n",
      "1714-12-31 00:00:00                               NaN  \n",
      "1715-12-31 00:00:00                               NaN  \n",
      "1716-12-31 00:00:00                               NaN  \n",
      "1717-12-31 00:00:00                               NaN  \n",
      "1718-12-31 00:00:00                               NaN  \n",
      "1719-12-31 00:00:00                               NaN  \n",
      "1720-12-31 00:00:00                               NaN  \n",
      "1721-12-31 00:00:00                               NaN  \n",
      "1722-12-31 00:00:00                               NaN  \n",
      "1723-12-31 00:00:00                               NaN  \n",
      "1724-12-31 00:00:00                               NaN  \n",
      "1725-12-31 00:00:00                               NaN  \n",
      "1726-12-31 00:00:00                               NaN  \n",
      "1727-12-31 00:00:00                               NaN  \n",
      "1728-12-31 00:00:00                               NaN  \n",
      "1729-12-31 00:00:00                               NaN  \n",
      "...                                               ...  \n",
      "1986-12-31                                        NaN  \n",
      "1987-12-31                                        NaN  \n",
      "1988-12-31                                        NaN  \n",
      "1989-12-31                                        NaN  \n",
      "1990-12-31                                        NaN  \n",
      "1991-12-31                                        NaN  \n",
      "1992-12-31                                        NaN  \n",
      "1993-12-31                                        NaN  \n",
      "1994-12-31                                        NaN  \n",
      "1995-12-31                                        NaN  \n",
      "1996-12-31                                        NaN  \n",
      "1997-12-31                                        NaN  \n",
      "1998-12-31                                        NaN  \n",
      "1999-12-31                                        NaN  \n",
      "2000-12-31                                        NaN  \n",
      "2001-12-31                                        NaN  \n",
      "2002-12-31                                        NaN  \n",
      "2003-12-31                                        NaN  \n",
      "2004-12-31                                        NaN  \n",
      "2005-12-31                                        NaN  \n",
      "2006-12-31                                        NaN  \n",
      "2007-12-31                                        NaN  \n",
      "2008-12-31                                        NaN  \n",
      "2009-12-31                                        NaN  \n",
      "2010-12-31                                        NaN  \n",
      "2011-12-31                                        NaN  \n",
      "2012-12-31                                        NaN  \n",
      "2013-12-31                                        NaN  \n",
      "2014-12-31                                        NaN  \n",
      "2015-12-31                                        NaN  \n",
      "\n",
      "[316 rows x 4 columns]\n"
     ]
    },
    {
     "data": {
      "text/plain": [
       "Index([u'Yearly Mean Total Sunspot Number', u'Yearly Mean Standard Deviation',\n",
       "       u'Number of Observations', u'Definitive/Provisional Indicator'],\n",
       "      dtype='object')"
      ]
     },
     "execution_count": 31,
     "metadata": {},
     "output_type": "execute_result"
    }
   ],
   "source": [
    "import quandl\n",
    "sunspots = quandl.get(\"SIDC/SUNSPOTS_A\")\n",
    "print \"Head 2\", sunspots.head(2)\n",
    "print \"Tail 2\", sunspots.tail(2)\n",
    "print\n",
    "last_date = sunspots.index[-1]\n",
    "print \"Last value\", sunspots.loc[last_date]\n",
    "\n",
    "print \"Values slice by date\", sunspots[\"20020101\": \"20131231\"]\n",
    "print \"Slice from a list of indices\", sunspots.iloc[[2,4,-4,-2]]\n",
    "print \"Scalar with Iloc\", sunspots.iloc[0,0]\n",
    "print \"Scalar with iat\", sunspots.iat[1,0]\n",
    "\n",
    "print \"Boolean selection\", sunspots[sunspots > sunspots.mean()]\n",
    "sunspots.columns\n",
    "# print \"Boolean selection with column label\", sunspots[sunspots.Number > sunspots.Number.mean()]"
   ]
  },
  {
   "cell_type": "markdown",
   "metadata": {},
   "source": [
    "## Statistics with pandas"
   ]
  },
  {
   "cell_type": "code",
   "execution_count": 33,
   "metadata": {
    "collapsed": false
   },
   "outputs": [
    {
     "name": "stdout",
     "output_type": "stream",
     "text": [
      "Describe        Yearly Mean Total Sunspot Number  Yearly Mean Standard Deviation  \\\n",
      "count                        316.000000                      198.000000   \n",
      "mean                          79.503481                        8.030303   \n",
      "std                           62.057114                        3.807299   \n",
      "min                            0.000000                        1.700000   \n",
      "25%                           25.050000                        4.725000   \n",
      "50%                           66.700000                        7.700000   \n",
      "75%                          116.400000                       10.475000   \n",
      "max                          269.300000                       19.100000   \n",
      "\n",
      "       Number of Observations  Definitive/Provisional Indicator  \n",
      "count              198.000000                             316.0  \n",
      "mean              1424.888889                               1.0  \n",
      "std               2394.898980                               0.0  \n",
      "min                150.000000                               1.0  \n",
      "25%                365.000000                               1.0  \n",
      "50%                365.000000                               1.0  \n",
      "75%                366.000000                               1.0  \n",
      "max               8903.000000                               1.0  \n",
      "Non NaN observations Yearly Mean Total Sunspot Number    316\n",
      "Yearly Mean Standard Deviation      198\n",
      "Number of Observations              198\n",
      "Definitive/Provisional Indicator    316\n",
      "dtype: int64\n",
      "MAD Yearly Mean Total Sunspot Number      50.987620\n",
      "Yearly Mean Standard Deviation         3.125375\n",
      "Number of Observations              1777.463524\n",
      "Definitive/Provisional Indicator       0.000000\n",
      "dtype: float64\n",
      "Median Yearly Mean Total Sunspot Number     66.7\n",
      "Yearly Mean Standard Deviation        7.7\n",
      "Number of Observations              365.0\n",
      "Definitive/Provisional Indicator      1.0\n",
      "dtype: float64\n",
      "Min Yearly Mean Total Sunspot Number      0.0\n",
      "Yearly Mean Standard Deviation        1.7\n",
      "Number of Observations              150.0\n",
      "Definitive/Provisional Indicator      1.0\n",
      "dtype: float64\n",
      "Max Yearly Mean Total Sunspot Number     269.3\n",
      "Yearly Mean Standard Deviation        19.1\n",
      "Number of Observations              8903.0\n",
      "Definitive/Provisional Indicator       1.0\n",
      "dtype: float64\n",
      "Mode    Yearly Mean Total Sunspot Number  Yearly Mean Standard Deviation  \\\n",
      "0                              18.3                             9.2   \n",
      "\n",
      "   Number of Observations  Definitive/Provisional Indicator  \n",
      "0                   365.0                               1.0  \n",
      "Standard Deviation Yearly Mean Total Sunspot Number      62.057114\n",
      "Yearly Mean Standard Deviation         3.807299\n",
      "Number of Observations              2394.898980\n",
      "Definitive/Provisional Indicator       0.000000\n",
      "dtype: float64\n",
      "Variance Yearly Mean Total Sunspot Number    3.851085e+03\n",
      "Yearly Mean Standard Deviation      1.449552e+01\n",
      "Number of Observations              5.735541e+06\n",
      "Definitive/Provisional Indicator    0.000000e+00\n",
      "dtype: float64\n",
      "Skewness Yearly Mean Total Sunspot Number    0.799452\n",
      "Yearly Mean Standard Deviation      0.555067\n",
      "Number of Observations              1.876098\n",
      "Definitive/Provisional Indicator    0.000000\n",
      "dtype: float64\n",
      "Kurtosis Yearly Mean Total Sunspot Number   -0.143733\n",
      "Yearly Mean Standard Deviation     -0.244310\n",
      "Number of Observations              1.783261\n",
      "Definitive/Provisional Indicator    0.000000\n",
      "dtype: float64\n"
     ]
    }
   ],
   "source": [
    "import quandl\n",
    "sunspots = quandl.get(\"SIDC/SUNSPOTS_A\")\n",
    "print \"Describe\", sunspots.describe()\n",
    "print \"Non NaN observations\", sunspots.count()\n",
    "print \"MAD\", sunspots.mad()  # mean absolute deviation\n",
    "print \"Median\", sunspots.median()\n",
    "print \"Min\", sunspots.min()\n",
    "print \"Max\", sunspots.max()\n",
    "print \"Mode\", sunspots.mode()\n",
    "print \"Standard Deviation\", sunspots.std()\n",
    "print \"Variance\", sunspots.var()\n",
    "print \"Skewness\", sunspots.skew()\n",
    "print \"Kurtosis\", sunspots.kurt()"
   ]
  },
  {
   "cell_type": "markdown",
   "metadata": {},
   "source": [
    "## Data aggregation with pandas DataFrames"
   ]
  },
  {
   "cell_type": "code",
   "execution_count": 37,
   "metadata": {
    "collapsed": false
   },
   "outputs": [
    {
     "name": "stdout",
     "output_type": "stream",
     "text": [
      "        Food  Number     Price Weather\n",
      "0       soup       8  3.745401    cold\n",
      "1       soup       5  9.507143     hot\n",
      "2   icecream       4  7.319939    cold\n",
      "3  chocolate       8  5.986585     hot\n",
      "4   icecream       8  1.560186    cold\n",
      "5   icecream       3  1.559945     hot\n",
      "6       soup       6  0.580836    cold\n",
      "Group 1 cold\n",
      "       Food  Number     Price Weather\n",
      "0      soup       8  3.745401    cold\n",
      "2  icecream       4  7.319939    cold\n",
      "4  icecream       8  1.560186    cold\n",
      "6      soup       6  0.580836    cold\n",
      "Group 2 hot\n",
      "        Food  Number     Price Weather\n",
      "1       soup       5  9.507143     hot\n",
      "3  chocolate       8  5.986585     hot\n",
      "5   icecream       3  1.559945     hot\n",
      "Weather group first\n",
      "         Food  Number     Price\n",
      "Weather                        \n",
      "cold     soup       8  3.745401\n",
      "hot      soup       5  9.507143\n",
      "Weather group last\n",
      "             Food  Number     Price\n",
      "Weather                            \n",
      "cold         soup       6  0.580836\n",
      "hot      icecream       3  1.559945\n",
      "Weather group mean\n",
      "           Number     Price\n",
      "Weather                    \n",
      "cold     6.500000  3.301591\n",
      "hot      5.333333  5.684558\n",
      "WF Groups {('hot', 'chocolate'): Int64Index([3], dtype='int64'), ('cold', 'icecream'): Int64Index([2, 4], dtype='int64'), ('cold', 'soup'): Int64Index([0, 6], dtype='int64'), ('hot', 'soup'): Int64Index([1], dtype='int64'), ('hot', 'icecream'): Int64Index([5], dtype='int64')}\n",
      "WF Aggregated\n",
      "                  Number            Price          \n",
      "                    mean median      mean    median\n",
      "Weather Food                                       \n",
      "cold    icecream       6      6  4.440063  4.440063\n",
      "        soup           7      7  2.163119  2.163119\n",
      "hot     chocolate      8      8  5.986585  5.986585\n",
      "        icecream       3      3  1.559945  1.559945\n",
      "        soup           5      5  9.507143  9.507143\n"
     ]
    },
    {
     "name": "stderr",
     "output_type": "stream",
     "text": [
      "/Users/JFrmbp/Support/anaconda3/envs/data2/lib/python2.7/site-packages/ipykernel/__main__.py:12: DeprecationWarning: This function is deprecated. Please call randint(1, 9 + 1) instead\n"
     ]
    }
   ],
   "source": [
    "import pandas as pd\n",
    "from numpy.random import seed\n",
    "from numpy.random import rand\n",
    "from numpy.random import random_integers\n",
    "import numpy as np\n",
    "\n",
    "seed(42)\n",
    "\n",
    "df = pd.DataFrame({'Weather' : ['cold', 'hot', 'cold', 'hot', 'cold', 'hot', 'cold'], \n",
    "                   'Food': ['soup', 'soup', 'icecream', 'chocolate', 'icecream', 'icecream', 'soup'], \n",
    "                   'Price': 10*rand(7), \n",
    "                   'Number': random_integers(1, 9, size=(7,))})\n",
    "\n",
    "print df\n",
    "weather_group = df.groupby('Weather')\n",
    "\n",
    "i=0\n",
    "\n",
    "for name, group in weather_group:\n",
    "    i = i + 1\n",
    "    print \"Group\", i, name\n",
    "    print group\n",
    "    \n",
    "print \"Weather group first\\n\", weather_group.first()\n",
    "print \"Weather group last\\n\", weather_group.last()\n",
    "print \"Weather group mean\\n\", weather_group.mean()\n",
    "\n",
    "wf_group = df.groupby(['Weather', 'Food'])\n",
    "print \"WF Groups\", wf_group.groups\n",
    "\n",
    "print \"WF Aggregated\\n\", wf_group.agg([np.mean, np.median])"
   ]
  },
  {
   "cell_type": "markdown",
   "metadata": {},
   "source": [
    "## Concatenating and appending DataFrames"
   ]
  },
  {
   "cell_type": "code",
   "execution_count": 38,
   "metadata": {
    "collapsed": false
   },
   "outputs": [
    {
     "name": "stdout",
     "output_type": "stream",
     "text": [
      "df :3\n",
      "       Food  Number     Price Weather\n",
      "0      soup       8  3.745401    cold\n",
      "1      soup       5  9.507143     hot\n",
      "2  icecream       4  7.319939    cold\n",
      "Concat Back together\n",
      "        Food  Number     Price Weather\n",
      "0       soup       8  3.745401    cold\n",
      "1       soup       5  9.507143     hot\n",
      "2   icecream       4  7.319939    cold\n",
      "3  chocolate       8  5.986585     hot\n",
      "4   icecream       8  1.560186    cold\n",
      "5   icecream       3  1.559945     hot\n",
      "6       soup       6  0.580836    cold\n",
      "Appending rows\n",
      "       Food  Number     Price Weather\n",
      "0      soup       8  3.745401    cold\n",
      "1      soup       5  9.507143     hot\n",
      "2  icecream       4  7.319939    cold\n",
      "5  icecream       3  1.559945     hot\n",
      "6      soup       6  0.580836    cold\n"
     ]
    }
   ],
   "source": [
    "print \"df :3\\n\", df[:3]\n",
    "print \"Concat Back together\\n\", pd.concat([df[:3], df[3:]])\n",
    "print \"Appending rows\\n\", df[:3].append(df[5:])"
   ]
  },
  {
   "cell_type": "markdown",
   "metadata": {},
   "source": [
    "## Joining DataFrames"
   ]
  },
  {
   "cell_type": "code",
   "execution_count": 39,
   "metadata": {
    "collapsed": false
   },
   "outputs": [
    {
     "ename": "IOError",
     "evalue": "File dest.csv does not exist",
     "output_type": "error",
     "traceback": [
      "\u001b[0;31m---------------------------------------------------------------------------\u001b[0m",
      "\u001b[0;31mIOError\u001b[0m                                   Traceback (most recent call last)",
      "\u001b[0;32m<ipython-input-39-7e43a9c50d4f>\u001b[0m in \u001b[0;36m<module>\u001b[0;34m()\u001b[0m\n\u001b[0;32m----> 1\u001b[0;31m \u001b[0mdests\u001b[0m \u001b[0;34m=\u001b[0m \u001b[0mpd\u001b[0m\u001b[0;34m.\u001b[0m\u001b[0mread_csv\u001b[0m\u001b[0;34m(\u001b[0m\u001b[0;34m'dest.csv'\u001b[0m\u001b[0;34m)\u001b[0m\u001b[0;34m\u001b[0m\u001b[0m\n\u001b[0m",
      "\u001b[0;32m/Users/JFrmbp/Support/anaconda3/envs/data2/lib/python2.7/site-packages/pandas/io/parsers.pyc\u001b[0m in \u001b[0;36mparser_f\u001b[0;34m(filepath_or_buffer, sep, delimiter, header, names, index_col, usecols, squeeze, prefix, mangle_dupe_cols, dtype, engine, converters, true_values, false_values, skipinitialspace, skiprows, nrows, na_values, keep_default_na, na_filter, verbose, skip_blank_lines, parse_dates, infer_datetime_format, keep_date_col, date_parser, dayfirst, iterator, chunksize, compression, thousands, decimal, lineterminator, quotechar, quoting, escapechar, comment, encoding, dialect, tupleize_cols, error_bad_lines, warn_bad_lines, skipfooter, skip_footer, doublequote, delim_whitespace, as_recarray, compact_ints, use_unsigned, low_memory, buffer_lines, memory_map, float_precision)\u001b[0m\n\u001b[1;32m    644\u001b[0m                     skip_blank_lines=skip_blank_lines)\n\u001b[1;32m    645\u001b[0m \u001b[0;34m\u001b[0m\u001b[0m\n\u001b[0;32m--> 646\u001b[0;31m         \u001b[0;32mreturn\u001b[0m \u001b[0m_read\u001b[0m\u001b[0;34m(\u001b[0m\u001b[0mfilepath_or_buffer\u001b[0m\u001b[0;34m,\u001b[0m \u001b[0mkwds\u001b[0m\u001b[0;34m)\u001b[0m\u001b[0;34m\u001b[0m\u001b[0m\n\u001b[0m\u001b[1;32m    647\u001b[0m \u001b[0;34m\u001b[0m\u001b[0m\n\u001b[1;32m    648\u001b[0m     \u001b[0mparser_f\u001b[0m\u001b[0;34m.\u001b[0m\u001b[0m__name__\u001b[0m \u001b[0;34m=\u001b[0m \u001b[0mname\u001b[0m\u001b[0;34m\u001b[0m\u001b[0m\n",
      "\u001b[0;32m/Users/JFrmbp/Support/anaconda3/envs/data2/lib/python2.7/site-packages/pandas/io/parsers.pyc\u001b[0m in \u001b[0;36m_read\u001b[0;34m(filepath_or_buffer, kwds)\u001b[0m\n\u001b[1;32m    387\u001b[0m \u001b[0;34m\u001b[0m\u001b[0m\n\u001b[1;32m    388\u001b[0m     \u001b[0;31m# Create the parser.\u001b[0m\u001b[0;34m\u001b[0m\u001b[0;34m\u001b[0m\u001b[0m\n\u001b[0;32m--> 389\u001b[0;31m     \u001b[0mparser\u001b[0m \u001b[0;34m=\u001b[0m \u001b[0mTextFileReader\u001b[0m\u001b[0;34m(\u001b[0m\u001b[0mfilepath_or_buffer\u001b[0m\u001b[0;34m,\u001b[0m \u001b[0;34m**\u001b[0m\u001b[0mkwds\u001b[0m\u001b[0;34m)\u001b[0m\u001b[0;34m\u001b[0m\u001b[0m\n\u001b[0m\u001b[1;32m    390\u001b[0m \u001b[0;34m\u001b[0m\u001b[0m\n\u001b[1;32m    391\u001b[0m     \u001b[0;32mif\u001b[0m \u001b[0;34m(\u001b[0m\u001b[0mnrows\u001b[0m \u001b[0;32mis\u001b[0m \u001b[0;32mnot\u001b[0m \u001b[0mNone\u001b[0m\u001b[0;34m)\u001b[0m \u001b[0;32mand\u001b[0m \u001b[0;34m(\u001b[0m\u001b[0mchunksize\u001b[0m \u001b[0;32mis\u001b[0m \u001b[0;32mnot\u001b[0m \u001b[0mNone\u001b[0m\u001b[0;34m)\u001b[0m\u001b[0;34m:\u001b[0m\u001b[0;34m\u001b[0m\u001b[0m\n",
      "\u001b[0;32m/Users/JFrmbp/Support/anaconda3/envs/data2/lib/python2.7/site-packages/pandas/io/parsers.pyc\u001b[0m in \u001b[0;36m__init__\u001b[0;34m(self, f, engine, **kwds)\u001b[0m\n\u001b[1;32m    728\u001b[0m             \u001b[0mself\u001b[0m\u001b[0;34m.\u001b[0m\u001b[0moptions\u001b[0m\u001b[0;34m[\u001b[0m\u001b[0;34m'has_index_names'\u001b[0m\u001b[0;34m]\u001b[0m \u001b[0;34m=\u001b[0m \u001b[0mkwds\u001b[0m\u001b[0;34m[\u001b[0m\u001b[0;34m'has_index_names'\u001b[0m\u001b[0;34m]\u001b[0m\u001b[0;34m\u001b[0m\u001b[0m\n\u001b[1;32m    729\u001b[0m \u001b[0;34m\u001b[0m\u001b[0m\n\u001b[0;32m--> 730\u001b[0;31m         \u001b[0mself\u001b[0m\u001b[0;34m.\u001b[0m\u001b[0m_make_engine\u001b[0m\u001b[0;34m(\u001b[0m\u001b[0mself\u001b[0m\u001b[0;34m.\u001b[0m\u001b[0mengine\u001b[0m\u001b[0;34m)\u001b[0m\u001b[0;34m\u001b[0m\u001b[0m\n\u001b[0m\u001b[1;32m    731\u001b[0m \u001b[0;34m\u001b[0m\u001b[0m\n\u001b[1;32m    732\u001b[0m     \u001b[0;32mdef\u001b[0m \u001b[0mclose\u001b[0m\u001b[0;34m(\u001b[0m\u001b[0mself\u001b[0m\u001b[0;34m)\u001b[0m\u001b[0;34m:\u001b[0m\u001b[0;34m\u001b[0m\u001b[0m\n",
      "\u001b[0;32m/Users/JFrmbp/Support/anaconda3/envs/data2/lib/python2.7/site-packages/pandas/io/parsers.pyc\u001b[0m in \u001b[0;36m_make_engine\u001b[0;34m(self, engine)\u001b[0m\n\u001b[1;32m    921\u001b[0m     \u001b[0;32mdef\u001b[0m \u001b[0m_make_engine\u001b[0m\u001b[0;34m(\u001b[0m\u001b[0mself\u001b[0m\u001b[0;34m,\u001b[0m \u001b[0mengine\u001b[0m\u001b[0;34m=\u001b[0m\u001b[0;34m'c'\u001b[0m\u001b[0;34m)\u001b[0m\u001b[0;34m:\u001b[0m\u001b[0;34m\u001b[0m\u001b[0m\n\u001b[1;32m    922\u001b[0m         \u001b[0;32mif\u001b[0m \u001b[0mengine\u001b[0m \u001b[0;34m==\u001b[0m \u001b[0;34m'c'\u001b[0m\u001b[0;34m:\u001b[0m\u001b[0;34m\u001b[0m\u001b[0m\n\u001b[0;32m--> 923\u001b[0;31m             \u001b[0mself\u001b[0m\u001b[0;34m.\u001b[0m\u001b[0m_engine\u001b[0m \u001b[0;34m=\u001b[0m \u001b[0mCParserWrapper\u001b[0m\u001b[0;34m(\u001b[0m\u001b[0mself\u001b[0m\u001b[0;34m.\u001b[0m\u001b[0mf\u001b[0m\u001b[0;34m,\u001b[0m \u001b[0;34m**\u001b[0m\u001b[0mself\u001b[0m\u001b[0;34m.\u001b[0m\u001b[0moptions\u001b[0m\u001b[0;34m)\u001b[0m\u001b[0;34m\u001b[0m\u001b[0m\n\u001b[0m\u001b[1;32m    924\u001b[0m         \u001b[0;32melse\u001b[0m\u001b[0;34m:\u001b[0m\u001b[0;34m\u001b[0m\u001b[0m\n\u001b[1;32m    925\u001b[0m             \u001b[0;32mif\u001b[0m \u001b[0mengine\u001b[0m \u001b[0;34m==\u001b[0m \u001b[0;34m'python'\u001b[0m\u001b[0;34m:\u001b[0m\u001b[0;34m\u001b[0m\u001b[0m\n",
      "\u001b[0;32m/Users/JFrmbp/Support/anaconda3/envs/data2/lib/python2.7/site-packages/pandas/io/parsers.pyc\u001b[0m in \u001b[0;36m__init__\u001b[0;34m(self, src, **kwds)\u001b[0m\n\u001b[1;32m   1388\u001b[0m         \u001b[0mkwds\u001b[0m\u001b[0;34m[\u001b[0m\u001b[0;34m'allow_leading_cols'\u001b[0m\u001b[0;34m]\u001b[0m \u001b[0;34m=\u001b[0m \u001b[0mself\u001b[0m\u001b[0;34m.\u001b[0m\u001b[0mindex_col\u001b[0m \u001b[0;32mis\u001b[0m \u001b[0;32mnot\u001b[0m \u001b[0mFalse\u001b[0m\u001b[0;34m\u001b[0m\u001b[0m\n\u001b[1;32m   1389\u001b[0m \u001b[0;34m\u001b[0m\u001b[0m\n\u001b[0;32m-> 1390\u001b[0;31m         \u001b[0mself\u001b[0m\u001b[0;34m.\u001b[0m\u001b[0m_reader\u001b[0m \u001b[0;34m=\u001b[0m \u001b[0m_parser\u001b[0m\u001b[0;34m.\u001b[0m\u001b[0mTextReader\u001b[0m\u001b[0;34m(\u001b[0m\u001b[0msrc\u001b[0m\u001b[0;34m,\u001b[0m \u001b[0;34m**\u001b[0m\u001b[0mkwds\u001b[0m\u001b[0;34m)\u001b[0m\u001b[0;34m\u001b[0m\u001b[0m\n\u001b[0m\u001b[1;32m   1391\u001b[0m \u001b[0;34m\u001b[0m\u001b[0m\n\u001b[1;32m   1392\u001b[0m         \u001b[0;31m# XXX\u001b[0m\u001b[0;34m\u001b[0m\u001b[0;34m\u001b[0m\u001b[0m\n",
      "\u001b[0;32mpandas/parser.pyx\u001b[0m in \u001b[0;36mpandas.parser.TextReader.__cinit__ (pandas/parser.c:4184)\u001b[0;34m()\u001b[0m\n",
      "\u001b[0;32mpandas/parser.pyx\u001b[0m in \u001b[0;36mpandas.parser.TextReader._setup_parser_source (pandas/parser.c:8449)\u001b[0;34m()\u001b[0m\n",
      "\u001b[0;31mIOError\u001b[0m: File dest.csv does not exist"
     ]
    }
   ],
   "source": [
    "dests = pd.read_csv('dest.csv')\n",
    "print \"Dests\\n\", dests\n",
    "\n",
    "tips = pd.read_csv('tips.csv')\n",
    "print \"Tips\\n\", tips\n",
    "\n",
    "print \"Merge() on key\\n\", pd.merge(dests, tips, on='EmpNr')\n",
    "print \"Dests join() tips\\n\", dests.join(tips, lsuffix='Dest', rsuffix='Tips')\n",
    "\n",
    "print \"Inner join with merge()\\n\", pd.merge(dests, tips, how='inner')\n",
    "print \"Outer join\\n\", pd.merge(dests, tips, how='outer')"
   ]
  },
  {
   "cell_type": "markdown",
   "metadata": {},
   "source": [
    "## Handling missing values"
   ]
  },
  {
   "cell_type": "code",
   "execution_count": 40,
   "metadata": {
    "collapsed": false
   },
   "outputs": [
    {
     "name": "stdout",
     "output_type": "stream",
     "text": [
      "New df\n",
      "       Country  Net primary school enrolment ratio male (%)\n",
      "0  Afghanistan                                         23.0\n",
      "1      Albania                                         94.0\n",
      "Null Values\n",
      "  Country Net primary school enrolment ratio male (%)\n",
      "0   False                                       False\n",
      "1   False                                       False\n",
      "Total Null Values\n",
      "Country                                        0\n",
      "Net primary school enrolment ratio male (%)    0\n",
      "dtype: int64\n",
      "Not Null Values\n",
      "  Country Net primary school enrolment ratio male (%)\n",
      "0    True                                        True\n",
      "1    True                                        True\n",
      "Last Column Doubled\n",
      "0     46.0\n",
      "1    188.0\n",
      "Name: Net primary school enrolment ratio male (%), dtype: float64\n",
      "Last Column plus NaN\n",
      "0   NaN\n",
      "1   NaN\n",
      "Name: Net primary school enrolment ratio male (%), dtype: float64\n",
      "Zero filled\n",
      "       Country  Net primary school enrolment ratio male (%)\n",
      "0  Afghanistan                                         23.0\n",
      "1      Albania                                         94.0\n"
     ]
    }
   ],
   "source": [
    "df = pd.read_csv('csv/WHO_first9cols.csv')\n",
    "df = df [['Country', df.columns[-2]]][:2]\n",
    "print \"New df\\n\", df\n",
    "print \"Null Values\\n\", pd.isnull(df)\n",
    "print \"Total Null Values\\n\", pd.isnull(df).sum()\n",
    "print \"Not Null Values\\n\", df.notnull()\n",
    "print \"Last Column Doubled\\n\", 2 * df[df.columns[-1]]\n",
    "print \"Last Column plus NaN\\n\", df[df.columns[-1]] + np.nan\n",
    "print \"Zero filled\\n\", df.fillna(0)"
   ]
  },
  {
   "cell_type": "markdown",
   "metadata": {},
   "source": [
    "## Dealing with dates"
   ]
  },
  {
   "cell_type": "code",
   "execution_count": 42,
   "metadata": {
    "collapsed": false
   },
   "outputs": [
    {
     "name": "stdout",
     "output_type": "stream",
     "text": [
      " Date range DatetimeIndex(['1900-01-01', '1900-01-02', '1900-01-03', '1900-01-04',\n",
      "               '1900-01-05', '1900-01-06', '1900-01-07', '1900-01-08',\n",
      "               '1900-01-09', '1900-01-10', '1900-01-11', '1900-01-12',\n",
      "               '1900-01-13', '1900-01-14', '1900-01-15', '1900-01-16',\n",
      "               '1900-01-17', '1900-01-18', '1900-01-19', '1900-01-20',\n",
      "               '1900-01-21', '1900-01-22', '1900-01-23', '1900-01-24',\n",
      "               '1900-01-25', '1900-01-26', '1900-01-27', '1900-01-28',\n",
      "               '1900-01-29', '1900-01-30', '1900-01-31', '1900-02-01',\n",
      "               '1900-02-02', '1900-02-03', '1900-02-04', '1900-02-05',\n",
      "               '1900-02-06', '1900-02-07', '1900-02-08', '1900-02-09',\n",
      "               '1900-02-10', '1900-02-11'],\n",
      "              dtype='datetime64[ns]', freq='D')\n",
      "Date range Error encountered <class 'pandas.tslib.OutOfBoundsDatetime'> Out of bounds nanosecond timestamp: 1677-01-01 00:00:00\n",
      "DatetimeIndex(['1900-01-01', '1901-12-11'], dtype='datetime64[ns]', freq=None)\n",
      "With format DatetimeIndex(['1902-11-12', '1903-12-30'], dtype='datetime64[ns]', freq=None)\n",
      "Illegal date coerced DatetimeIndex(['1902-11-12', 'NaT'], dtype='datetime64[ns]', freq=None)\n"
     ]
    },
    {
     "name": "stderr",
     "output_type": "stream",
     "text": [
      "/Users/JFrmbp/Support/anaconda3/envs/data2/lib/python2.7/site-packages/ipykernel/__main__.py:16: FutureWarning: the coerce=True keyword is deprecated, use errors='coerce' instead\n"
     ]
    }
   ],
   "source": [
    "import sys\n",
    "\n",
    "print \"Date range\", pd.date_range('1/1/1900', periods=42, freq='D')\n",
    "\n",
    "try:\n",
    "    print \"Date range\", pd.date_range('1/1/1677', periods=4, freq='D')\n",
    "except:\n",
    "    etype, value, _ = sys.exc_info()\n",
    "    print \"Error encountered\", etype, value\n",
    "\n",
    "print pd.to_datetime(['1900/1/1', '1901/12/11'])\n",
    "\n",
    "print \"With format\", pd.to_datetime(['19021112', '19031230'], format='%Y%m%d')\n",
    "\n",
    "# print \"Illegal date\", pd.to_datetime(['1902-11-12', 'not a date'])\n",
    "print \"Illegal date coerced\", pd.to_datetime(['1902-11-12', 'not a date'], coerce=True)"
   ]
  },
  {
   "cell_type": "markdown",
   "metadata": {},
   "source": [
    "## Pivot tables"
   ]
  },
  {
   "cell_type": "code",
   "execution_count": 46,
   "metadata": {
    "collapsed": false
   },
   "outputs": [
    {
     "name": "stdout",
     "output_type": "stream",
     "text": [
      "DataFrame\n",
      "       Country  Net primary school enrolment ratio male (%)\n",
      "0  Afghanistan                                         23.0\n",
      "1      Albania                                         94.0\n"
     ]
    },
    {
     "ename": "TypeError",
     "evalue": "pivot_table() got an unexpected keyword argument 'cols'",
     "output_type": "error",
     "traceback": [
      "\u001b[0;31m---------------------------------------------------------------------------\u001b[0m",
      "\u001b[0;31mTypeError\u001b[0m                                 Traceback (most recent call last)",
      "\u001b[0;32m<ipython-input-46-d5dc46f4e698>\u001b[0m in \u001b[0;36m<module>\u001b[0;34m()\u001b[0m\n\u001b[1;32m      1\u001b[0m \u001b[0;32mprint\u001b[0m \u001b[0;34m\"DataFrame\\n\"\u001b[0m\u001b[0;34m,\u001b[0m \u001b[0mdf\u001b[0m\u001b[0;34m\u001b[0m\u001b[0m\n\u001b[0;32m----> 2\u001b[0;31m \u001b[0;32mprint\u001b[0m \u001b[0mpd\u001b[0m\u001b[0;34m.\u001b[0m\u001b[0mpivot_table\u001b[0m\u001b[0;34m(\u001b[0m\u001b[0mdf\u001b[0m\u001b[0;34m,\u001b[0m \u001b[0mcols\u001b[0m\u001b[0;34m=\u001b[0m\u001b[0;34m[\u001b[0m\u001b[0;34m'Food'\u001b[0m\u001b[0;34m]\u001b[0m\u001b[0;34m,\u001b[0m \u001b[0maggfunc\u001b[0m\u001b[0;34m=\u001b[0m\u001b[0mnp\u001b[0m\u001b[0;34m.\u001b[0m\u001b[0msum\u001b[0m\u001b[0;34m)\u001b[0m\u001b[0;34m\u001b[0m\u001b[0m\n\u001b[0m",
      "\u001b[0;31mTypeError\u001b[0m: pivot_table() got an unexpected keyword argument 'cols'"
     ]
    }
   ],
   "source": [
    "print \"DataFrame\\n\", df\n",
    "print pd.pivot_table(df, cols=['Food'], aggfunc=np.sum)"
   ]
  },
  {
   "cell_type": "markdown",
   "metadata": {},
   "source": [
    "## Remote data access"
   ]
  },
  {
   "cell_type": "code",
   "execution_count": 52,
   "metadata": {
    "collapsed": false
   },
   "outputs": [
    {
     "ename": "RemoteDataError",
     "evalue": "Data not available",
     "output_type": "error",
     "traceback": [
      "\u001b[0;31m---------------------------------------------------------------------------\u001b[0m",
      "\u001b[0;31mRemoteDataError\u001b[0m                           Traceback (most recent call last)",
      "\u001b[0;32m<ipython-input-52-4365bd6349e4>\u001b[0m in \u001b[0;36m<module>\u001b[0;34m()\u001b[0m\n\u001b[1;32m     21\u001b[0m     \u001b[0;32mreturn\u001b[0m \u001b[0mcall\u001b[0m \u001b[0;34m+\u001b[0m \u001b[0mput\u001b[0m\u001b[0;34m\u001b[0m\u001b[0m\n\u001b[1;32m     22\u001b[0m \u001b[0;34m\u001b[0m\u001b[0m\n\u001b[0;32m---> 23\u001b[0;31m \u001b[0;32mprint\u001b[0m \u001b[0mget_straddle\u001b[0m\u001b[0;34m(\u001b[0m\u001b[0;34m)\u001b[0m\u001b[0;34m\u001b[0m\u001b[0m\n\u001b[0m",
      "\u001b[0;32m<ipython-input-52-4365bd6349e4>\u001b[0m in \u001b[0;36mget_straddle\u001b[0;34m()\u001b[0m\n\u001b[1;32m     16\u001b[0m \u001b[0;32mdef\u001b[0m \u001b[0mget_straddle\u001b[0m\u001b[0;34m(\u001b[0m\u001b[0;34m)\u001b[0m\u001b[0;34m:\u001b[0m\u001b[0;34m\u001b[0m\u001b[0m\n\u001b[1;32m     17\u001b[0m     \u001b[0moptions\u001b[0m \u001b[0;34m=\u001b[0m \u001b[0mOptions\u001b[0m\u001b[0;34m(\u001b[0m\u001b[0;34m'AAPL'\u001b[0m\u001b[0;34m,\u001b[0m \u001b[0;34m\"yahoo\"\u001b[0m\u001b[0;34m)\u001b[0m\u001b[0;34m\u001b[0m\u001b[0m\n\u001b[0;32m---> 18\u001b[0;31m     \u001b[0mcall\u001b[0m \u001b[0;34m=\u001b[0m \u001b[0mget_price\u001b[0m\u001b[0;34m(\u001b[0m\u001b[0moptions\u001b[0m\u001b[0;34m,\u001b[0m \u001b[0mTrue\u001b[0m\u001b[0;34m,\u001b[0m \u001b[0mFalse\u001b[0m\u001b[0;34m)\u001b[0m\u001b[0;34m\u001b[0m\u001b[0m\n\u001b[0m\u001b[1;32m     19\u001b[0m     \u001b[0mput\u001b[0m \u001b[0;34m=\u001b[0m \u001b[0mget_price\u001b[0m\u001b[0;34m(\u001b[0m\u001b[0moptions\u001b[0m\u001b[0;34m,\u001b[0m \u001b[0mFalse\u001b[0m\u001b[0;34m,\u001b[0m \u001b[0mTrue\u001b[0m\u001b[0;34m)\u001b[0m\u001b[0;34m\u001b[0m\u001b[0m\n\u001b[1;32m     20\u001b[0m \u001b[0;34m\u001b[0m\u001b[0m\n",
      "\u001b[0;32m<ipython-input-52-4365bd6349e4>\u001b[0m in \u001b[0;36mget_price\u001b[0;34m(options, is_call, is_put)\u001b[0m\n\u001b[1;32m      9\u001b[0m \u001b[0;32mdef\u001b[0m \u001b[0mget_price\u001b[0m\u001b[0;34m(\u001b[0m\u001b[0moptions\u001b[0m\u001b[0;34m,\u001b[0m \u001b[0mis_call\u001b[0m\u001b[0;34m,\u001b[0m \u001b[0mis_put\u001b[0m\u001b[0;34m)\u001b[0m\u001b[0;34m:\u001b[0m\u001b[0;34m\u001b[0m\u001b[0m\n\u001b[1;32m     10\u001b[0m     \u001b[0mfri\u001b[0m \u001b[0;34m=\u001b[0m \u001b[0mnext_friday\u001b[0m\u001b[0;34m(\u001b[0m\u001b[0;34m)\u001b[0m\u001b[0;34m\u001b[0m\u001b[0m\n\u001b[0;32m---> 11\u001b[0;31m     \u001b[0moption_list\u001b[0m \u001b[0;34m=\u001b[0m \u001b[0moptions\u001b[0m\u001b[0;34m.\u001b[0m\u001b[0mget_near_stock_price\u001b[0m\u001b[0;34m(\u001b[0m\u001b[0mabove_below\u001b[0m\u001b[0;34m=\u001b[0m\u001b[0;36m1\u001b[0m\u001b[0;34m,\u001b[0m \u001b[0mcall\u001b[0m\u001b[0;34m=\u001b[0m\u001b[0mis_call\u001b[0m\u001b[0;34m,\u001b[0m \u001b[0mput\u001b[0m\u001b[0;34m=\u001b[0m\u001b[0mis_put\u001b[0m\u001b[0;34m,\u001b[0m \u001b[0mexpiry\u001b[0m\u001b[0;34m=\u001b[0m\u001b[0mfri\u001b[0m\u001b[0;34m)\u001b[0m\u001b[0;34m[\u001b[0m\u001b[0;36m0\u001b[0m\u001b[0;34m]\u001b[0m\u001b[0;34m\u001b[0m\u001b[0m\n\u001b[0m\u001b[1;32m     12\u001b[0m     \u001b[0moption\u001b[0m \u001b[0;34m=\u001b[0m \u001b[0moption_list\u001b[0m\u001b[0;34m[\u001b[0m\u001b[0moption_list\u001b[0m\u001b[0;34m[\u001b[0m\u001b[0;34m\"Open Int\"\u001b[0m\u001b[0;34m]\u001b[0m \u001b[0;34m==\u001b[0m \u001b[0moption_list\u001b[0m\u001b[0;34m[\u001b[0m\u001b[0;34m\"Open Int\"\u001b[0m\u001b[0;34m]\u001b[0m\u001b[0;34m.\u001b[0m\u001b[0mmax\u001b[0m\u001b[0;34m(\u001b[0m\u001b[0;34m)\u001b[0m\u001b[0;34m]\u001b[0m\u001b[0;34m\u001b[0m\u001b[0m\n\u001b[1;32m     13\u001b[0m \u001b[0;34m\u001b[0m\u001b[0m\n",
      "\u001b[0;32m/Users/JFrmbp/Support/anaconda3/envs/data2/lib/python2.7/site-packages/pandas_datareader/yahoo/options.py\u001b[0m in \u001b[0;36mget_near_stock_price\u001b[0;34m(self, above_below, call, put, month, year, expiry)\u001b[0m\n\u001b[1;32m    400\u001b[0m \u001b[0;34m\u001b[0m\u001b[0m\n\u001b[1;32m    401\u001b[0m         \"\"\"\n\u001b[0;32m--> 402\u001b[0;31m         \u001b[0mexpiry\u001b[0m \u001b[0;34m=\u001b[0m \u001b[0mself\u001b[0m\u001b[0;34m.\u001b[0m\u001b[0m_try_parse_dates\u001b[0m\u001b[0;34m(\u001b[0m\u001b[0myear\u001b[0m\u001b[0;34m,\u001b[0m \u001b[0mmonth\u001b[0m\u001b[0;34m,\u001b[0m \u001b[0mexpiry\u001b[0m\u001b[0;34m)\u001b[0m\u001b[0;34m\u001b[0m\u001b[0m\n\u001b[0m\u001b[1;32m    403\u001b[0m         \u001b[0mdata\u001b[0m \u001b[0;34m=\u001b[0m \u001b[0mself\u001b[0m\u001b[0;34m.\u001b[0m\u001b[0m_get_data_in_date_range\u001b[0m\u001b[0;34m(\u001b[0m\u001b[0mexpiry\u001b[0m\u001b[0;34m,\u001b[0m \u001b[0mcall\u001b[0m\u001b[0;34m=\u001b[0m\u001b[0mcall\u001b[0m\u001b[0;34m,\u001b[0m \u001b[0mput\u001b[0m\u001b[0;34m=\u001b[0m\u001b[0mput\u001b[0m\u001b[0;34m)\u001b[0m\u001b[0;34m\u001b[0m\u001b[0m\n\u001b[1;32m    404\u001b[0m         \u001b[0;32mreturn\u001b[0m \u001b[0mself\u001b[0m\u001b[0;34m.\u001b[0m\u001b[0mchop_data\u001b[0m\u001b[0;34m(\u001b[0m\u001b[0mdata\u001b[0m\u001b[0;34m,\u001b[0m \u001b[0mabove_below\u001b[0m\u001b[0;34m,\u001b[0m \u001b[0mself\u001b[0m\u001b[0;34m.\u001b[0m\u001b[0munderlying_price\u001b[0m\u001b[0;34m)\u001b[0m\u001b[0;34m\u001b[0m\u001b[0m\n",
      "\u001b[0;32m/Users/JFrmbp/Support/anaconda3/envs/data2/lib/python2.7/site-packages/pandas_datareader/yahoo/options.py\u001b[0m in \u001b[0;36m_try_parse_dates\u001b[0;34m(self, year, month, expiry)\u001b[0m\n\u001b[1;32m    456\u001b[0m                 \u001b[0mexpiry\u001b[0m \u001b[0;34m=\u001b[0m \u001b[0;34m[\u001b[0m\u001b[0mself\u001b[0m\u001b[0;34m.\u001b[0m\u001b[0m_validate_expiry\u001b[0m\u001b[0;34m(\u001b[0m\u001b[0mexp\u001b[0m\u001b[0;34m)\u001b[0m \u001b[0;32mfor\u001b[0m \u001b[0mexp\u001b[0m \u001b[0;32min\u001b[0m \u001b[0mexpiry\u001b[0m\u001b[0;34m]\u001b[0m\u001b[0;34m\u001b[0m\u001b[0m\n\u001b[1;32m    457\u001b[0m             \u001b[0;32melse\u001b[0m\u001b[0;34m:\u001b[0m\u001b[0;34m\u001b[0m\u001b[0m\n\u001b[0;32m--> 458\u001b[0;31m                 \u001b[0mexpiry\u001b[0m \u001b[0;34m=\u001b[0m \u001b[0;34m[\u001b[0m\u001b[0mself\u001b[0m\u001b[0;34m.\u001b[0m\u001b[0m_validate_expiry\u001b[0m\u001b[0;34m(\u001b[0m\u001b[0mexpiry\u001b[0m\u001b[0;34m)\u001b[0m\u001b[0;34m]\u001b[0m\u001b[0;34m\u001b[0m\u001b[0m\n\u001b[0m\u001b[1;32m    459\u001b[0m \u001b[0;34m\u001b[0m\u001b[0m\n\u001b[1;32m    460\u001b[0m             \u001b[0;32mif\u001b[0m \u001b[0mlen\u001b[0m\u001b[0;34m(\u001b[0m\u001b[0mexpiry\u001b[0m\u001b[0;34m)\u001b[0m \u001b[0;34m==\u001b[0m \u001b[0;36m0\u001b[0m\u001b[0;34m:\u001b[0m\u001b[0;34m\u001b[0m\u001b[0m\n",
      "\u001b[0;32m/Users/JFrmbp/Support/anaconda3/envs/data2/lib/python2.7/site-packages/pandas_datareader/yahoo/options.py\u001b[0m in \u001b[0;36m_validate_expiry\u001b[0;34m(self, expiry)\u001b[0m\n\u001b[1;32m    480\u001b[0m         If the expiry date does not have options that expire on that day, return next expiry\"\"\"\n\u001b[1;32m    481\u001b[0m \u001b[0;34m\u001b[0m\u001b[0m\n\u001b[0;32m--> 482\u001b[0;31m         \u001b[0mexpiry_dates\u001b[0m \u001b[0;34m=\u001b[0m \u001b[0mself\u001b[0m\u001b[0;34m.\u001b[0m\u001b[0mexpiry_dates\u001b[0m\u001b[0;34m\u001b[0m\u001b[0m\n\u001b[0m\u001b[1;32m    483\u001b[0m         \u001b[0mexpiry\u001b[0m \u001b[0;34m=\u001b[0m \u001b[0mto_datetime\u001b[0m\u001b[0;34m(\u001b[0m\u001b[0mexpiry\u001b[0m\u001b[0;34m)\u001b[0m\u001b[0;34m\u001b[0m\u001b[0m\n\u001b[1;32m    484\u001b[0m         \u001b[0;32mif\u001b[0m \u001b[0mhasattr\u001b[0m\u001b[0;34m(\u001b[0m\u001b[0mexpiry\u001b[0m\u001b[0;34m,\u001b[0m \u001b[0;34m'date'\u001b[0m\u001b[0;34m)\u001b[0m\u001b[0;34m:\u001b[0m\u001b[0;34m\u001b[0m\u001b[0m\n",
      "\u001b[0;32m/Users/JFrmbp/Support/anaconda3/envs/data2/lib/python2.7/site-packages/pandas_datareader/yahoo/options.py\u001b[0m in \u001b[0;36mexpiry_dates\u001b[0;34m(self)\u001b[0m\n\u001b[1;32m    619\u001b[0m             \u001b[0mexpiry_dates\u001b[0m \u001b[0;34m=\u001b[0m \u001b[0mself\u001b[0m\u001b[0;34m.\u001b[0m\u001b[0m_expiry_dates\u001b[0m\u001b[0;34m\u001b[0m\u001b[0m\n\u001b[1;32m    620\u001b[0m         \u001b[0;32mexcept\u001b[0m \u001b[0mAttributeError\u001b[0m\u001b[0;34m:\u001b[0m\u001b[0;34m\u001b[0m\u001b[0m\n\u001b[0;32m--> 621\u001b[0;31m             \u001b[0mexpiry_dates\u001b[0m\u001b[0;34m,\u001b[0m \u001b[0m_\u001b[0m \u001b[0;34m=\u001b[0m \u001b[0mself\u001b[0m\u001b[0;34m.\u001b[0m\u001b[0m_get_expiry_dates_and_links\u001b[0m\u001b[0;34m(\u001b[0m\u001b[0;34m)\u001b[0m\u001b[0;34m\u001b[0m\u001b[0m\n\u001b[0m\u001b[1;32m    622\u001b[0m         \u001b[0;32mreturn\u001b[0m \u001b[0mexpiry_dates\u001b[0m\u001b[0;34m\u001b[0m\u001b[0m\n\u001b[1;32m    623\u001b[0m \u001b[0;34m\u001b[0m\u001b[0m\n",
      "\u001b[0;32m/Users/JFrmbp/Support/anaconda3/envs/data2/lib/python2.7/site-packages/pandas_datareader/yahoo/options.py\u001b[0m in \u001b[0;36m_get_expiry_dates_and_links\u001b[0;34m(self)\u001b[0m\n\u001b[1;32m    645\u001b[0m \u001b[0;34m\u001b[0m\u001b[0m\n\u001b[1;32m    646\u001b[0m         \u001b[0;32mif\u001b[0m \u001b[0mlen\u001b[0m\u001b[0;34m(\u001b[0m\u001b[0mexpiry_dates\u001b[0m\u001b[0;34m)\u001b[0m \u001b[0;34m==\u001b[0m \u001b[0;36m0\u001b[0m\u001b[0;34m:\u001b[0m\u001b[0;34m\u001b[0m\u001b[0m\n\u001b[0;32m--> 647\u001b[0;31m             \u001b[0;32mraise\u001b[0m \u001b[0mRemoteDataError\u001b[0m\u001b[0;34m(\u001b[0m\u001b[0;34m'Data not available'\u001b[0m\u001b[0;34m)\u001b[0m \u001b[0;31m# pragma: no cover\u001b[0m\u001b[0;34m\u001b[0m\u001b[0m\n\u001b[0m\u001b[1;32m    648\u001b[0m \u001b[0;34m\u001b[0m\u001b[0m\n\u001b[1;32m    649\u001b[0m         \u001b[0mexpiry_links\u001b[0m \u001b[0;34m=\u001b[0m \u001b[0mdict\u001b[0m\u001b[0;34m(\u001b[0m\u001b[0mzip\u001b[0m\u001b[0;34m(\u001b[0m\u001b[0mexpiry_dates\u001b[0m\u001b[0;34m,\u001b[0m \u001b[0mlinks\u001b[0m\u001b[0;34m)\u001b[0m\u001b[0;34m)\u001b[0m\u001b[0;34m\u001b[0m\u001b[0m\n",
      "\u001b[0;31mRemoteDataError\u001b[0m: Data not available"
     ]
    }
   ],
   "source": [
    "# from pandas.io.data import Options\n",
    "from pandas_datareader.data import Options\n",
    "import datetime\n",
    "\n",
    "def next_friday():\n",
    "    today = datetime.date.today()\n",
    "    return today + datetime.timedelta((4-today.weekday()) % 7)\n",
    "\n",
    "def get_price(options, is_call, is_put):\n",
    "    fri = next_friday()\n",
    "    option_list = options.get_near_stock_price(above_below=1, call=is_call, put=is_put, expiry=fri)[0]\n",
    "    option = option_list[option_list[\"Open Int\"] == option_list[\"Open Int\"].max()]\n",
    "    \n",
    "    return option[\"Last\"].values[0]\n",
    "\n",
    "def get_straddle():\n",
    "    options = Options('AAPL', \"yahoo\")\n",
    "    call = get_price(options, True, False)\n",
    "    put = get_price(options, False, True)\n",
    "    \n",
    "    return call + put\n",
    "\n",
    "print get_straddle()"
   ]
  }
 ],
 "metadata": {
  "anaconda-cloud": {},
  "kernelspec": {
   "display_name": "Python [conda env:data2]",
   "language": "python",
   "name": "conda-env-data2-py"
  },
  "language_info": {
   "codemirror_mode": {
    "name": "ipython",
    "version": 2
   },
   "file_extension": ".py",
   "mimetype": "text/x-python",
   "name": "python",
   "nbconvert_exporter": "python",
   "pygments_lexer": "ipython2",
   "version": "2.7.13"
  }
 },
 "nbformat": 4,
 "nbformat_minor": 1
}
